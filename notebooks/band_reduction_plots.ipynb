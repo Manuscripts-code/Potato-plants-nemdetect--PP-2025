{
 "cells": [
  {
   "cell_type": "markdown",
   "metadata": {},
   "source": [
    "\n",
    "## Bands reduction plot performance"
   ]
  },
  {
   "cell_type": "code",
   "execution_count": null,
   "metadata": {},
   "outputs": [],
   "source": [
    "import matplotlib.pyplot as plt\n",
    "import pandas as pd\n",
    "\n",
    "data_D1 = {\n",
    "    \"Spectral Bands\": [10, 20, 30, 40, 50, 60, 70, 80, 90, 100, 110, 120, 130, 140, 150, 160, 170, 180, 190, 200, 210, 220],\n",
    "    \"F1\": [0.64, 0.68, 0.76, 0.73, 0.78, 0.80, 0.79, 0.80, 0.80, 0.77, 0.83, 0.84, 0.88, 0.90, 0.90, 0.90, 0.90, 0.91, 0.92, 0.92, 0.92, 0.92],\n",
    "    \"Precision\": [0.66, 0.70, 0.77, 0.74, 0.79, 0.80, 0.80, 0.81, 0.80, 0.78, 0.84, 0.85, 0.88, 0.91, 0.91, 0.91, 0.90, 0.91, 0.92, 0.92, 0.92, 0.92],\n",
    "    \"Recall\": [0.65, 0.69, 0.76, 0.73, 0.78, 0.80, 0.79, 0.80, 0.80, 0.77, 0.83, 0.84, 0.88, 0.90, 0.90, 0.90, 0.90, 0.91, 0.92, 0.92, 0.92, 0.92]\n",
    "}\n",
    "df = pd.DataFrame(data_D1)\n",
    "\n",
    "# data_D16 = {\n",
    "#     \"Spectral Bands\": [10, 20, 30, 40, 50, 60, 70, 80, 90, 100, 110, 120, 130, 140, 150, 160, 170, 180, 190, 200, 210, 220],\n",
    "#     \"F1\": [0.30, 0.38, 0.32, 0.36, 0.38, 0.45, 0.41, 0.45, 0.42, 0.44, 0.50, 0.55, 0.54, 0.50, 0.52, 0.52, 0.54, 0.54, 0.54, 0.57, 0.58, 0.59],\n",
    "#     \"Precision\": [0.31, 0.44, 0.36, 0.39, 0.43, 0.49, 0.44, 0.50, 0.46, 0.47, 0.52, 0.59, 0.59, 0.54, 0.55, 0.55, 0.58, 0.56, 0.56, 0.58, 0.60, 0.60],\n",
    "#     \"Recall\": [0.32, 0.39, 0.33, 0.37, 0.40, 0.46, 0.43, 0.46, 0.44, 0.45, 0.51, 0.56, 0.56, 0.51, 0.54, 0.53, 0.56, 0.54, 0.55, 0.58, 0.59, 0.59]\n",
    "# }\n",
    "# df = pd.DataFrame(data_D16)\n",
    "\n",
    "\n",
    "# Plot the data\n",
    "fig, ax = plt.subplots(figsize=(8, 7), dpi=300)\n",
    "plt.plot(df[\"Spectral Bands\"], df[\"Precision\"], label=\"Precision\", marker='s')\n",
    "plt.plot(df[\"Spectral Bands\"], df[\"Recall\"], label=\"Recall\", marker='^')\n",
    "plt.plot(df[\"Spectral Bands\"], df[\"F1\"], label=\"F1\", marker='o')\n",
    "\n",
    "ax.spines[\"bottom\"].set_linewidth(2)\n",
    "ax.spines[\"left\"].set_linewidth(2)\n",
    "ax.spines[\"right\"].set_linewidth(0)\n",
    "ax.spines[\"top\"].set_linewidth(0)\n",
    "ax.set_xlabel(\"Number of spectral bands\", fontsize=18)\n",
    "ax.tick_params(axis=\"both\", which=\"major\", labelsize=16)\n",
    "ax.tick_params(axis=\"both\", which=\"minor\", labelsize=16)\n",
    "ax.legend(fontsize=18, framealpha=0, loc=\"lower right\")\n",
    "plt.show()"
   ]
  },
  {
   "cell_type": "code",
   "execution_count": null,
   "metadata": {},
   "outputs": [],
   "source": []
  }
 ],
 "metadata": {
  "kernelspec": {
   "display_name": ".venv",
   "language": "python",
   "name": "python3"
  },
  "language_info": {
   "codemirror_mode": {
    "name": "ipython",
    "version": 3
   },
   "file_extension": ".py",
   "mimetype": "text/x-python",
   "name": "python",
   "nbconvert_exporter": "python",
   "pygments_lexer": "ipython3",
   "version": "3.11.10"
  }
 },
 "nbformat": 4,
 "nbformat_minor": 2
}
