{
 "cells": [
  {
   "cell_type": "markdown",
   "metadata": {},
   "source": [
    "\n",
    "## Cross-validate particular dataset"
   ]
  },
  {
   "cell_type": "code",
   "execution_count": null,
   "metadata": {},
   "outputs": [],
   "source": [
    "import os\n",
    "import sys\n",
    "from collections import defaultdict\n",
    "\n",
    "# Add project root to Python path\n",
    "project_root = os.path.abspath(os.path.join(os.getcwd(), '..'))\n",
    "if project_root not in sys.path:\n",
    "    sys.path.append(project_root)\n",
    "    \n",
    "from IPython.display import clear_output\n",
    "from source.analysis import metrics\n",
    "from source.dataloader import DataLoader\n",
    "from source.trainer import Trainer\n",
    "from source.trainer.models import import_model"
   ]
  },
  {
   "cell_type": "code",
   "execution_count": null,
   "metadata": {},
   "outputs": [],
   "source": [
    "estimator_name = \"savgol-svc\"\n",
    "do_optimize = True\n",
    "group_id = 16\n",
    "imaging_id  = [1, 2, 3]\n",
    "camera_label = [\"vnir\", \"swir\"]\n",
    "\n",
    "scores_all = defaultdict(list)\n",
    "for seed in range(0,2):\n",
    "    X, y, meta = DataLoader().load_datasets(\n",
    "        group_id=group_id,\n",
    "        imagings_ids=imaging_id,\n",
    "        cameras_labels=camera_label,\n",
    "        balancer_seed=seed,\n",
    "    )\n",
    "\n",
    "    trainer = Trainer(estimator_name)\n",
    "    study = trainer.optimize(X, y)\n",
    "    clear_output(wait=True)\n",
    "        \n",
    "    model = import_model(estimator_name)\n",
    "    model.set_params(**study.best_params)\n",
    "\n",
    "    scores = metrics.calculate_metrics(model, trainer.encoder, X, y, meta)\n",
    "    clear_output(wait=True)\n",
    "\n",
    "    filtered_scores = [metric for metric in scores if metric.meta_id == metrics.ALL]\n",
    "\n",
    "    for metric in filtered_scores:\n",
    "        scores_all[metric.name].append(metric.mean)\n",
    "    "
   ]
  },
  {
   "cell_type": "code",
   "execution_count": null,
   "metadata": {},
   "outputs": [],
   "source": []
  }
 ],
 "metadata": {
  "kernelspec": {
   "display_name": ".venv",
   "language": "python",
   "name": "python3"
  },
  "language_info": {
   "codemirror_mode": {
    "name": "ipython",
    "version": 3
   },
   "file_extension": ".py",
   "mimetype": "text/x-python",
   "name": "python",
   "nbconvert_exporter": "python",
   "pygments_lexer": "ipython3",
   "version": "3.11.10"
  }
 },
 "nbformat": 4,
 "nbformat_minor": 2
}
