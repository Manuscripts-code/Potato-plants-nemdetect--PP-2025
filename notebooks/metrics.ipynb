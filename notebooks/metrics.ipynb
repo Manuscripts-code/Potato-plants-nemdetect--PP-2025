{
 "cells": [
  {
   "cell_type": "markdown",
   "metadata": {},
   "source": [
    "## Metrics and additional features"
   ]
  },
  {
   "cell_type": "code",
   "execution_count": 16,
   "metadata": {},
   "outputs": [],
   "source": [
    "import os\n",
    "import sys\n",
    "from collections import defaultdict\n",
    "\n",
    "from tabulate import tabulate\n",
    "\n",
    "# Add project root to Python path\n",
    "project_root = os.path.abspath(os.path.join(os.getcwd(), '..'))\n",
    "if project_root not in sys.path:\n",
    "    sys.path.append(project_root)\n",
    "    \n",
    "from source.core import artifacts, settings\n",
    "from source.utils.params import params_from_path\n",
    "from source.utils.utils import write_txt\n"
   ]
  },
  {
   "cell_type": "code",
   "execution_count": 17,
   "metadata": {},
   "outputs": [],
   "source": [
    "# Display table with only one metric per machine learning algo\n",
    "\n",
    "metrics_all = artifacts.load_metrics()\n",
    "\n",
    "# Dictionary to store the values\n",
    "data = defaultdict(dict)\n",
    "metric_wanted = \"balanced_accuracy_score\"\n",
    "\n",
    "for key, metrics_ in metrics_all.items():\n",
    "    value = getattr(next((m for m in metrics_ if m.name == metric_wanted), None), 'mean', 0)\n",
    "    if value == 0:\n",
    "        continue\n",
    "\n",
    "    params = params_from_path(key)\n",
    "    if params.load_imagings_ids != [1, 2, 3]:\n",
    "        continue\n",
    "    if params.load_cameras_labels != [\"vnir\", \"swir\"]:\n",
    "        continue\n",
    "    if not params.estimator_is_optimized:\n",
    "        continue\n",
    "\n",
    "    estimator = params.estimator_name\n",
    "    dataset_id = params.load_group_id\n",
    "    data[dataset_id][estimator] = value\n",
    "\n",
    "# Convert dictionary to table format\n",
    "headers = [\"Dataset (D#)\"] + sorted({estimator for estimators in data.values() for estimator in estimators})\n",
    "rows = [[dataset_id] + [data[dataset_id].get(estimator, \"\") for estimator in headers[1:]] for dataset_id in sorted(data)]\n",
    "\n",
    "table = tabulate(rows, headers, tablefmt=\"grid\")\n",
    "write_txt(table, settings.outputs_dir / f\"table__{metric_wanted}.txt\")"
   ]
  },
  {
   "cell_type": "code",
   "execution_count": null,
   "metadata": {},
   "outputs": [],
   "source": []
  }
 ],
 "metadata": {
  "kernelspec": {
   "display_name": ".venv",
   "language": "python",
   "name": "python3"
  },
  "language_info": {
   "codemirror_mode": {
    "name": "ipython",
    "version": 3
   },
   "file_extension": ".py",
   "mimetype": "text/x-python",
   "name": "python",
   "nbconvert_exporter": "python",
   "pygments_lexer": "ipython3",
   "version": "3.11.10"
  }
 },
 "nbformat": 4,
 "nbformat_minor": 2
}
